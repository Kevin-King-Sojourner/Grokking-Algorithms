{
 "cells": [
  {
   "cell_type": "markdown",
   "metadata": {},
   "source": [
    "BINARY SEARCH\n",
    "half-interval search, logarithmic search, or binary chop,\n",
    "is a search algorithm that finds the position of a target value within a sorted array.\n",
    "Binary search compares the target value to the middle element of the array."
   ]
  },
  {
   "cell_type": "code",
   "execution_count": 8,
   "metadata": {},
   "outputs": [
    {
     "data": {
      "text/plain": [
       "6"
      ]
     },
     "execution_count": 8,
     "metadata": {},
     "output_type": "execute_result"
    }
   ],
   "source": [
    "a=[1,2,3,4,5,6,7,8,9]\n",
    "\n",
    "item=7\n",
    "def binarysearch(list,item):    \n",
    "    low=0\n",
    "    high=len(a)-1\n",
    "    while low<=high:\n",
    "        mid=(low+high)//2\n",
    "        guess=list[mid]\n",
    "        if guess==item:\n",
    "            return(mid)\n",
    "        elif guess>item:\n",
    "            high=mid-1\n",
    "        else:\n",
    "            low=mid+1\n",
    "    return(None)\n",
    "binarysearch(a,item)"
   ]
  },
  {
   "cell_type": "markdown",
   "metadata": {},
   "source": [
    "1.1 Suppose you have a sorted list of 128 names, and you’re searching\n",
    "    through it using binary search. What’s the maximum number of\n",
    "    steps it would take?\n",
    "    \n",
    "    LOG2(128)=N\n",
    "    \n",
    "    N STEPS = 7\n",
    "\n",
    "    \n",
    "1.2 Suppose you double the size of the list. What’s the maximum\n",
    "    number of steps now?\n",
    "    \n",
    "    LOG2(128*2)=8"
   ]
  },
  {
   "cell_type": "markdown",
   "metadata": {},
   "source": [
    "1.3 You have a name, and you want to find the person’s phone number\n",
    "in the phone book. \n",
    "\n",
    "it will take log(n) operations to find the name using binary search, \n",
    "so the big O notaion for the process will be O(log(n)).\n",
    "\n",
    "1.4 You have a phone number, and you want to find the person’s name\n",
    "in the phone book.\n",
    "\n",
    "since the number is not ordered we have to do a simple search with n \n",
    "operations that is in big O tearms O(n).\n",
    "\n",
    "1.5 You want to read the numbers of every person in the phone book.\n",
    "\n",
    "I will do a simple search since i have to go through every entry anyways\n",
    "so O(n).\n",
    "\n",
    "1.6 You want to read the numbers of just the As. (This is a tricky one!\n",
    "It involves concepts that are covered more in chapter 4. Read the\n",
    "answer—you may be surprised!)\n",
    "\n",
    "(have'nt read chapter 4 )BUT to read every with A's i belive simple search \n",
    "is the best way. So O(n) where n is number of A's in the phone book.\n",
    "\n"
   ]
  }
 ],
 "metadata": {
  "interpreter": {
   "hash": "7a5b61a8e2a072fdd743a454c2c6544538af135122bc30fb302d9e4e32b94bbe"
  },
  "kernelspec": {
   "display_name": "Python 3.9.0 64-bit",
   "language": "python",
   "name": "python3"
  },
  "language_info": {
   "codemirror_mode": {
    "name": "ipython",
    "version": 3
   },
   "file_extension": ".py",
   "mimetype": "text/x-python",
   "name": "python",
   "nbconvert_exporter": "python",
   "pygments_lexer": "ipython3",
   "version": "3.9.0"
  },
  "orig_nbformat": 4
 },
 "nbformat": 4,
 "nbformat_minor": 2
}
