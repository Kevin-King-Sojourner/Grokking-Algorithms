{
 "cells": [
  {
   "cell_type": "markdown",
   "metadata": {},
   "source": [
    "BINARY SEARCH\n",
    "half-interval search, logarithmic search, or binary chop,\n",
    "is a search algorithm that finds the position of a target value within a sorted array.\n",
    "Binary search compares the target value to the middle element of the array."
   ]
  },
  {
   "cell_type": "code",
   "execution_count": 10,
   "metadata": {},
   "outputs": [
    {
     "data": {
      "text/plain": [
       "6"
      ]
     },
     "execution_count": 10,
     "metadata": {},
     "output_type": "execute_result"
    }
   ],
   "source": [
    "a=[1,2,3,4,5,6,7,8,9]\n",
    "item=7\n",
    "def binarysearch(list,item):    \n",
    "    low=0\n",
    "    high=len(a)-1\n",
    "    while low<=high:\n",
    "        mid=(low+high)//2\n",
    "        guess=list[mid]\n",
    "        if guess==item:\n",
    "            return(mid)\n",
    "        elif guess>item:\n",
    "            high=mid-1\n",
    "        else:\n",
    "            low=mid+1\n",
    "    return(None)\n",
    "binarysearch(a,item)"
   ]
  }
 ],
 "metadata": {
  "interpreter": {
   "hash": "7a5b61a8e2a072fdd743a454c2c6544538af135122bc30fb302d9e4e32b94bbe"
  },
  "kernelspec": {
   "display_name": "Python 3.9.0 64-bit",
   "language": "python",
   "name": "python3"
  },
  "language_info": {
   "codemirror_mode": {
    "name": "ipython",
    "version": 3
   },
   "file_extension": ".py",
   "mimetype": "text/x-python",
   "name": "python",
   "nbconvert_exporter": "python",
   "pygments_lexer": "ipython3",
   "version": "3.9.0"
  },
  "orig_nbformat": 4
 },
 "nbformat": 4,
 "nbformat_minor": 2
}
